{
 "cells": [
  {
   "cell_type": "code",
   "execution_count": null,
   "metadata": {},
   "outputs": [],
   "source": [
    "# !pip install -U tqdm"
   ]
  },
  {
   "cell_type": "code",
   "execution_count": null,
   "metadata": {},
   "outputs": [],
   "source": [
    "# !pip install bentoml --upgrade"
   ]
  },
  {
   "cell_type": "code",
   "execution_count": 1,
   "metadata": {},
   "outputs": [
    {
     "name": "stdout",
     "output_type": "stream",
     "text": [
      "[2020-11-15 09:40:26,241] WARNING - Importing from \"bentoml.artifact.*\" has been deprecated. Instead, use`bentoml.frameworks.*` and `bentoml.service.*`. e.g.:, `from bentoml.frameworks.sklearn import SklearnModelArtifact`, `from bentoml.service.artifacts import BentoServiceArtifact`, `from bentoml.service.artifacts.common import PickleArtifact`\n"
     ]
    }
   ],
   "source": [
    "import bentoml\n",
    "from transformers import pipeline\n",
    "import torch\n",
    "from bentoml.adapters import JsonInput\n",
    "from bentoml.artifact import PickleArtifact"
   ]
  },
  {
   "cell_type": "code",
   "execution_count": 5,
   "metadata": {},
   "outputs": [
    {
     "name": "stdout",
     "output_type": "stream",
     "text": [
      "Overwriting transformer_service.py\n"
     ]
    }
   ],
   "source": [
    "%%writefile transformer_service.py\n",
    "import bentoml\n",
    "from transformers import AutoModelForSequenceClassification, AutoTokenizer\n",
    "from bentoml.adapters import JsonInput\n",
    "from bentoml.service.artifacts.common import PickleArtifact\n",
    "import torch\n",
    "import math\n",
    "import warnings\n",
    "import numpy as np\n",
    "\n",
    "@bentoml.env(pip_packages=[\"transformers==3.1.0\", \"torch==1.6.0\"])\n",
    "@bentoml.artifacts([PickleArtifact('bartModel')])\n",
    "class TransformerService(bentoml.BentoService):\n",
    "    @bentoml.api(input=JsonInput(), batch=False)\n",
    "    def predict(self, payload):\n",
    "        # Initialize labels\n",
    "        risk_labels = [\"Data Collection\", \n",
    "                            \"Data Privacy\", \n",
    "                            \"Data Processes\", \n",
    "                            \"Data Modelling\", \n",
    "                            \"Data Encryption\",\n",
    "                            \"Data Security\", \n",
    "                            \"Not Related to Data\"]\n",
    "                \n",
    "        # Natural Language Inference Premise inputs\n",
    "        nli_template_risk_label = \"The risk factor of this text is on {}.\"  \n",
    "        \n",
    "        # Get text paypload\n",
    "        response = payload[\"response\"]\n",
    "        \n",
    "        # JSON output\n",
    "        risk_dict = self.artifacts.bartModel(response, risk_labels, hypothesis_template=nli_template_risk_label)\n",
    "        \n",
    "        return risk_dict"
   ]
  },
  {
   "cell_type": "code",
   "execution_count": 6,
   "metadata": {},
   "outputs": [],
   "source": [
    "from transformer_service import TransformerService\n",
    "ts = TransformerService()"
   ]
  },
  {
   "cell_type": "code",
   "execution_count": 7,
   "metadata": {},
   "outputs": [
    {
     "name": "stderr",
     "output_type": "stream",
     "text": [
      "Some weights of the model checkpoint at facebook/bart-large-mnli were not used when initializing BartForSequenceClassification: ['model.encoder.version', 'model.decoder.version']\n",
      "- This IS expected if you are initializing BartForSequenceClassification from the checkpoint of a model trained on another task or with another architecture (e.g. initializing a BertForSequenceClassification model from a BertForPretraining model).\n",
      "- This IS NOT expected if you are initializing BartForSequenceClassification from the checkpoint of a model that you expect to be exactly identical (initializing a BertForSequenceClassification model from a BertForSequenceClassification model).\n"
     ]
    }
   ],
   "source": [
    "model_name = \"facebook/bart-large-mnli\"\n",
    "classifier = pipeline(\"zero-shot-classification\",  model=model_name)\n"
   ]
  },
  {
   "cell_type": "code",
   "execution_count": 8,
   "metadata": {},
   "outputs": [
    {
     "data": {
      "text/plain": [
       "<transformer_service.TransformerService at 0x7f91ced748b0>"
      ]
     },
     "execution_count": 8,
     "metadata": {},
     "output_type": "execute_result"
    }
   ],
   "source": [
    "ts.pack(\"bartModel\", classifier)"
   ]
  },
  {
   "cell_type": "code",
   "execution_count": 9,
   "metadata": {},
   "outputs": [
    {
     "name": "stdout",
     "output_type": "stream",
     "text": [
      "[2020-11-15 09:41:37,426] INFO - BentoService bundle 'TransformerService:20201115094127_C00397' saved to: /Users/xavierpuspus/bentoml/repository/TransformerService/20201115094127_C00397\n"
     ]
    }
   ],
   "source": [
    "saved_path = ts.save()"
   ]
  },
  {
   "cell_type": "code",
   "execution_count": 10,
   "metadata": {},
   "outputs": [
    {
     "data": {
      "text/plain": [
       "'/Users/xavierpuspus/bentoml/repository/TransformerService/20201115094127_C00397'"
      ]
     },
     "execution_count": 10,
     "metadata": {},
     "output_type": "execute_result"
    }
   ],
   "source": [
    "saved_path"
   ]
  },
  {
   "cell_type": "code",
   "execution_count": null,
   "metadata": {},
   "outputs": [],
   "source": [
    "### Try it using bentoml serve {saved_path}"
   ]
  },
  {
   "cell_type": "code",
   "execution_count": null,
   "metadata": {},
   "outputs": [],
   "source": []
  }
 ],
 "metadata": {
  "kernelspec": {
   "display_name": "Python 3",
   "language": "python",
   "name": "python3"
  },
  "language_info": {
   "codemirror_mode": {
    "name": "ipython",
    "version": 3
   },
   "file_extension": ".py",
   "mimetype": "text/x-python",
   "name": "python",
   "nbconvert_exporter": "python",
   "pygments_lexer": "ipython3",
   "version": "3.8.3"
  }
 },
 "nbformat": 4,
 "nbformat_minor": 4
}
